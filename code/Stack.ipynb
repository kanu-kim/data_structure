{
 "cells": [
  {
   "cell_type": "markdown",
   "id": "b09d0d51-8320-442b-bdd7-3284f4c9d7c9",
   "metadata": {},
   "source": [
    "# Stack"
   ]
  },
  {
   "cell_type": "code",
   "execution_count": 96,
   "id": "62f5c526-f3ac-4f2a-88c6-47d9ea75152b",
   "metadata": {},
   "outputs": [],
   "source": [
    "# simple Stack (list)\n",
    "class Stack:\n",
    "    def __init__(self):\n",
    "        self.items = []\n",
    "    def Push(self,i):\n",
    "        self.items.append(i)\n",
    "    \n",
    "    def Pop(self):\n",
    "        return self.items.pop()\n",
    "    \n",
    "    def Peek(self):\n",
    "        return self.items[-1]\n",
    "        \n",
    "    def IsEmpty(self):\n",
    "        return not self.items\n",
    "    \n",
    "    def Size(self):\n",
    "        return len(self.items)\n",
    "        \n",
    "    def Display(self):\n",
    "        return self.items"
   ]
  },
  {
   "cell_type": "code",
   "execution_count": 85,
   "id": "11843b20-e558-465f-bbf1-3183c90fd38d",
   "metadata": {},
   "outputs": [
    {
     "name": "stdout",
     "output_type": "stream",
     "text": [
      "[]\n",
      "True\n",
      "[4, 7, 10]\n",
      "False\n",
      "pop 10\n",
      "[4, 7]\n",
      "stack size = 2\n",
      "stack peek = 7\n"
     ]
    }
   ],
   "source": [
    "stack = Stack()\n",
    "stack.Display()\n",
    "print(stack.IsEmpty())\n",
    "stack.Push(4)\n",
    "stack.Push(7)\n",
    "stack.Push(10)\n",
    "stack.Display()\n",
    "print(stack.IsEmpty())\n",
    "print(\"pop\",stack.Pop())\n",
    "stack.Display()\n",
    "print(\"stack size =\",stack.Size())\n",
    "print(\"stack peek =\",stack.Peek())\n"
   ]
  },
  {
   "cell_type": "code",
   "execution_count": 105,
   "id": "e91de135-c72a-4211-89d3-a5ba26ab47c5",
   "metadata": {},
   "outputs": [
    {
     "name": "stdout",
     "output_type": "stream",
     "text": [
      "result = 0.4\n"
     ]
    }
   ],
   "source": [
    "# Reverse Polish Notation (RPN)\n",
    "cal = \"25/\"\n",
    "rpn = Stack()\n",
    "for i in cal:\n",
    "    if i == \"+\":\n",
    "        i = int(rpn.Pop())+int(rpn.Pop())\n",
    "    elif i == \"*\":\n",
    "        i = int(rpn.Pop())*int(rpn.Pop())\n",
    "    elif i == \"-\":\n",
    "        i = -1*int(rpn.Pop())+int(rpn.Pop())\n",
    "    elif i == \"/\":\n",
    "        i = (int(rpn.Pop())/int(rpn.Pop()))**-1\n",
    "    rpn.Push(i)\n",
    "    \n",
    "print(\"result =\",rpn.Display()[0])\n"
   ]
  }
 ],
 "metadata": {
  "kernelspec": {
   "display_name": "Python 3 (ipykernel)",
   "language": "python",
   "name": "python3"
  },
  "language_info": {
   "codemirror_mode": {
    "name": "ipython",
    "version": 3
   },
   "file_extension": ".py",
   "mimetype": "text/x-python",
   "name": "python",
   "nbconvert_exporter": "python",
   "pygments_lexer": "ipython3",
   "version": "3.11.6"
  }
 },
 "nbformat": 4,
 "nbformat_minor": 5
}
