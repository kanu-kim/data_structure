{
 "cells": [
  {
   "cell_type": "markdown",
   "id": "70e83f10-1275-4673-a194-1b24c0ee4f34",
   "metadata": {},
   "source": [
    "# Depth First Search (DFS)"
   ]
  },
  {
   "cell_type": "code",
   "execution_count": 99,
   "id": "aff2e2b7-0728-4283-bdf4-c3f2ce4e2d36",
   "metadata": {},
   "outputs": [
    {
     "name": "stdout",
     "output_type": "stream",
     "text": [
      "importing Jupyter notebook from Stack.ipynb\n",
      "True\n",
      "False\n",
      "pop 10\n",
      "stack size = 2\n",
      "stack peek = 7\n",
      "result = 0.4\n"
     ]
    }
   ],
   "source": [
    "import import_ipynb\n",
    "from Linked_List import *\n",
    "from Stack import *"
   ]
  },
  {
   "cell_type": "code",
   "execution_count": 12,
   "id": "d7d9702a-537f-4fc4-ad56-81ccc02f6bc7",
   "metadata": {},
   "outputs": [
    {
     "data": {
      "text/plain": [
       "<Linked_List.Node at 0x109276d90>"
      ]
     },
     "execution_count": 12,
     "metadata": {},
     "output_type": "execute_result"
    }
   ],
   "source": [
    "# Adjacency list\n",
    "\n",
    "adj_list = []\n",
    "for i in range(8):\n",
    "    adj_list.append(Linked_List())\n",
    "#    print(adj_list[i].Display())\n",
    "adj_list[0].InsertInList(None,3)\n",
    "adj_list[0].InsertInList(None,2)\n",
    "adj_list[0].InsertInList(None,1)\n",
    "adj_list[1].InsertInList(None,4)\n",
    "adj_list[1].InsertInList(None,0)\n",
    "adj_list[2].InsertInList(None,0)\n",
    "adj_list[3].InsertInList(None,5)\n",
    "adj_list[3].InsertInList(None,0)\n",
    "adj_list[4].InsertInList(None,5)\n",
    "adj_list[4].InsertInList(None,1)\n",
    "adj_list[5].InsertInList(None,7)\n",
    "adj_list[5].InsertInList(None,6)\n",
    "adj_list[5].InsertInList(None,4)\n",
    "adj_list[5].InsertInList(None,3)\n",
    "adj_list[6].InsertInList(None,5)\n",
    "adj_list[7].InsertInList(None,5)"
   ]
  },
  {
   "cell_type": "code",
   "execution_count": 14,
   "id": "a12dfbfc-2303-4062-9b93-dae2e0f4223e",
   "metadata": {},
   "outputs": [
    {
     "name": "stdout",
     "output_type": "stream",
     "text": [
      "<Linked_List.Node object at 0x109225390> 1 <Linked_List.Node object at 0x109203650>\n",
      "<Linked_List.Node object at 0x109203650> 2 <Linked_List.Node object at 0x109226650>\n",
      "<Linked_List.Node object at 0x109226650> 3 None\n",
      "None\n",
      "<Linked_List.Node object at 0x109226750> 0 <Linked_List.Node object at 0x109226b90>\n",
      "<Linked_List.Node object at 0x109226b90> 4 None\n",
      "None\n",
      "<Linked_List.Node object at 0x109225350> 0 None\n",
      "None\n",
      "<Linked_List.Node object at 0x1092252d0> 0 <Linked_List.Node object at 0x109226b10>\n",
      "<Linked_List.Node object at 0x109226b10> 5 None\n",
      "None\n",
      "<Linked_List.Node object at 0x109226390> 1 <Linked_List.Node object at 0x109225310>\n",
      "<Linked_List.Node object at 0x109225310> 5 None\n",
      "None\n",
      "<Linked_List.Node object at 0x1083066d0> 3 <Linked_List.Node object at 0x109225b50>\n",
      "<Linked_List.Node object at 0x109225b50> 4 <Linked_List.Node object at 0x109225a50>\n",
      "<Linked_List.Node object at 0x109225a50> 6 <Linked_List.Node object at 0x10925d2d0>\n",
      "<Linked_List.Node object at 0x10925d2d0> 7 None\n",
      "None\n",
      "<Linked_List.Node object at 0x108306510> 5 None\n",
      "None\n",
      "<Linked_List.Node object at 0x109276d90> 5 None\n",
      "None\n"
     ]
    }
   ],
   "source": [
    "for i in range(8):\n",
    "    print(adj_list[i].Display())"
   ]
  },
  {
   "cell_type": "code",
   "execution_count": 97,
   "id": "04bc7738-0758-4ebc-acd8-4487f7c8d2c7",
   "metadata": {},
   "outputs": [
    {
     "name": "stdout",
     "output_type": "stream",
     "text": [
      "[True, False, False, False, False, False, False, False] 0 1\n",
      "[True, True, False, False, False, False, False, False] 1 4\n",
      "[True, True, False, False, True, False, False, False] 4 5\n",
      "[True, True, False, False, True, True, False, False] 5 3\n",
      "[True, True, False, True, True, True, False, False] 5 6\n",
      "[True, True, False, True, True, True, True, False] 5 7\n",
      "[True, True, False, True, True, True, True, True] 0 2\n"
     ]
    }
   ],
   "source": [
    "# 재귀함수를 이용한 DFS\n",
    "n = len(adj_list)\n",
    "visited = [False]*n\n",
    "\n",
    "def recursion_DFS(graph,start):\n",
    "    visited[start] = True\n",
    "    hp = graph[start].head\n",
    "    while hp != None:\n",
    "        v = hp.data\n",
    "        if not visited[v]:\n",
    "            print(visited,start,v)\n",
    "            recursion_DFS(graph,v)\n",
    "        hp = hp.next\n",
    "\n",
    "recursion_DFS(adj_list,0)"
   ]
  },
  {
   "cell_type": "code",
   "execution_count": 98,
   "id": "ed472a82-d94d-4230-ab2f-6568a53d4fb6",
   "metadata": {},
   "outputs": [
    {
     "name": "stdout",
     "output_type": "stream",
     "text": [
      "[True, True, True, True, True, True, True, True]\n"
     ]
    }
   ],
   "source": [
    "print(visited)"
   ]
  },
  {
   "cell_type": "code",
   "execution_count": 123,
   "id": "68f29feb-abf1-4a12-a082-da8ff72cfdee",
   "metadata": {},
   "outputs": [],
   "source": [
    "# Stack을 이용한 DFS\n",
    "\n",
    "def stack_DFS(graph,start):\n",
    "    S = Stack()\n",
    "    visited = [False]*len(graph)\n",
    "    S.Push(start)\n",
    "    while not S.IsEmpty():\n",
    "        print(S.Display())\n",
    "        c = S.Pop()\n",
    "        visited[c] = True\n",
    "        hp = graph[c].head\n",
    "        while hp != None:\n",
    "            v = hp.data\n",
    "            if not visited[v]:\n",
    "                S.Push(v)\n",
    "            hp = hp.next\n",
    "    return visited"
   ]
  },
  {
   "cell_type": "code",
   "execution_count": 124,
   "id": "e84cdd54-7d08-4a2b-ab7f-58eded284885",
   "metadata": {},
   "outputs": [
    {
     "name": "stdout",
     "output_type": "stream",
     "text": [
      "[0]\n",
      "[1, 2, 3]\n",
      "[1, 2, 5]\n",
      "[1, 2, 4, 6, 7]\n",
      "[1, 2, 4, 6]\n",
      "[1, 2, 4]\n",
      "[1, 2, 1]\n",
      "[1, 2]\n",
      "[1]\n"
     ]
    },
    {
     "data": {
      "text/plain": [
       "[True, True, True, True, True, True, True, True]"
      ]
     },
     "execution_count": 124,
     "metadata": {},
     "output_type": "execute_result"
    }
   ],
   "source": [
    "stack_DFS(adj_list,0)"
   ]
  },
  {
   "cell_type": "code",
   "execution_count": 130,
   "id": "6ef8cd4c-3b6d-4ada-ac3a-d5c98fa4094c",
   "metadata": {},
   "outputs": [],
   "source": [
    "# Stack을 이용한 DFS 중복 순회 제거\n",
    "\n",
    "def dedupe_stack_DFS(graph,start):\n",
    "    S = Stack()\n",
    "    visited = [False]*len(graph)\n",
    "    instack = [False]*len(graph)\n",
    "    S.Push(start)\n",
    "    instack[start] = True\n",
    "    while not S.IsEmpty():\n",
    "        print(S.Display())\n",
    "        c = S.Pop()\n",
    "        instack[c] = False\n",
    "        visited[c] = True\n",
    "        hp = graph[c].head\n",
    "        while hp != None:\n",
    "            v = hp.data\n",
    "            if not visited[v] and not instack[v]:\n",
    "                S.Push(v)\n",
    "                instack[v] = True\n",
    "            hp = hp.next\n",
    "    return visited"
   ]
  },
  {
   "cell_type": "code",
   "execution_count": 131,
   "id": "16a6ff66-d5c8-4a42-8a46-98a75e7d8c06",
   "metadata": {},
   "outputs": [
    {
     "name": "stdout",
     "output_type": "stream",
     "text": [
      "[0]\n",
      "[1, 2, 3]\n",
      "[1, 2, 5]\n",
      "[1, 2, 4, 6, 7]\n",
      "[1, 2, 4, 6]\n",
      "[1, 2, 4]\n",
      "[1, 2]\n",
      "[1]\n"
     ]
    },
    {
     "data": {
      "text/plain": [
       "[True, True, True, True, True, True, True, True]"
      ]
     },
     "execution_count": 131,
     "metadata": {},
     "output_type": "execute_result"
    }
   ],
   "source": [
    "dedupe_stack_DFS(adj_list,0)"
   ]
  },
  {
   "cell_type": "code",
   "execution_count": null,
   "id": "02079676-4f8d-4663-ab9d-5f856039b090",
   "metadata": {},
   "outputs": [],
   "source": []
  }
 ],
 "metadata": {
  "kernelspec": {
   "display_name": "Python 3 (ipykernel)",
   "language": "python",
   "name": "python3"
  },
  "language_info": {
   "codemirror_mode": {
    "name": "ipython",
    "version": 3
   },
   "file_extension": ".py",
   "mimetype": "text/x-python",
   "name": "python",
   "nbconvert_exporter": "python",
   "pygments_lexer": "ipython3",
   "version": "3.11.6"
  }
 },
 "nbformat": 4,
 "nbformat_minor": 5
}
