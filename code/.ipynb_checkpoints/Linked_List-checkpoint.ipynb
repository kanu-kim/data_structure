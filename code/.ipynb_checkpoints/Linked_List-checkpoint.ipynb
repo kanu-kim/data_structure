{
 "cells": [
  {
   "cell_type": "markdown",
   "id": "949e1fc8-8e89-42ef-9003-995076b7aa58",
   "metadata": {},
   "source": [
    "# Linked List"
   ]
  },
  {
   "cell_type": "code",
   "execution_count": 166,
   "id": "09c4944a-ecb9-49af-ad08-59f68356d9ff",
   "metadata": {},
   "outputs": [],
   "source": [
    "class Node:\n",
    "    def __init__(self,data=None):\n",
    "        self.data = data\n",
    "        self.next = None"
   ]
  },
  {
   "cell_type": "code",
   "execution_count": 167,
   "id": "3211dfef-0268-4c13-a08a-dcd01a55fc90",
   "metadata": {},
   "outputs": [],
   "source": [
    "class Linked_List:\n",
    "\n",
    "    # 초기화\n",
    "    def __init__(self):\n",
    "        self.head = None\n",
    "        \n",
    "    def InsertListNode(self,p,n):\n",
    "        hp = self.head\n",
    "        if p == None:\n",
    "            n.next = hp\n",
    "            self.head = n\n",
    "            return n\n",
    "        else:\n",
    "            while hp != p:\n",
    "                hp = hp.next\n",
    "            if hp.next == None:\n",
    "                n.next = None\n",
    "                hp.next = n\n",
    "            else:\n",
    "                n.next = hp.next\n",
    "                hp.next = n\n",
    "                \n",
    "    def InsertInList(self,p,d):\n",
    "        n = Node(d)\n",
    "        self.InsertListNode(p,n)\n",
    "        return n\n",
    "        \n",
    "    def RemoveFromList(self,d):\n",
    "        hp = self.head\n",
    "        if hp.data == d:\n",
    "            self.head = hp.next\n",
    "            return\n",
    "        while hp != None:\n",
    "            if hp.next.data == d:\n",
    "                break\n",
    "            hp = hp.next\n",
    "        target = hp.next\n",
    "        hp.next = target.next\n",
    "        return target\n",
    "\n",
    "    def Display(self):\n",
    "        hp = self.head\n",
    "        if hp==None:\n",
    "            print(\"Linked List is empty!\")\n",
    "        else:\n",
    "            while hp != None:\n",
    "                print(hp,hp.data,hp.next)\n",
    "                hp = hp.next"
   ]
  },
  {
   "cell_type": "code",
   "execution_count": 168,
   "id": "0d0009b8-9b51-40d9-a892-1afe3a48b3c9",
   "metadata": {},
   "outputs": [
    {
     "name": "stdout",
     "output_type": "stream",
     "text": [
      "<__main__.Node object at 0x109583310> 3 None\n",
      "<__main__.Node object at 0x108b831d0> 1 <__main__.Node object at 0x109583310>\n",
      "<__main__.Node object at 0x109583310> 3 None\n",
      "<__main__.Node object at 0x1094411d0> 0 <__main__.Node object at 0x108b831d0>\n",
      "<__main__.Node object at 0x108b831d0> 1 <__main__.Node object at 0x109583310>\n",
      "<__main__.Node object at 0x109583310> 3 None\n"
     ]
    }
   ],
   "source": [
    "# list code test\n",
    "llist = Linked_List()\n",
    "llist.InsertInList(None,3)\n",
    "llist.Display()\n",
    "llist.InsertInList(None,1)\n",
    "llist.Display()\n",
    "llist.InsertInList(None,0)\n",
    "llist.Display()"
   ]
  },
  {
   "cell_type": "code",
   "execution_count": 169,
   "id": "06f188e4-9339-4a4a-80e0-71d162d6c3be",
   "metadata": {},
   "outputs": [
    {
     "name": "stdout",
     "output_type": "stream",
     "text": [
      "<__main__.Node object at 0x108b81910> 3 None\n",
      "<__main__.Node object at 0x108b81910> 3 <__main__.Node object at 0x10913d810>\n",
      "<__main__.Node object at 0x10913d810> 1 None\n",
      "<__main__.Node object at 0x108b81910> 3 <__main__.Node object at 0x10913d810>\n",
      "<__main__.Node object at 0x10913d810> 1 <__main__.Node object at 0x10917df50>\n",
      "<__main__.Node object at 0x10917df50> 0 None\n"
     ]
    }
   ],
   "source": [
    "# list code test\n",
    "llist = Linked_List()\n",
    "x = llist.InsertInList(None,3)\n",
    "llist.Display()\n",
    "x = llist.InsertInList(x,1)\n",
    "llist.Display()\n",
    "llist.InsertInList(x,0)\n",
    "llist.Display()"
   ]
  },
  {
   "cell_type": "code",
   "execution_count": 170,
   "id": "5ab9cec8-b3f0-4b8a-9ce6-c7a3ad5edfea",
   "metadata": {},
   "outputs": [
    {
     "name": "stdout",
     "output_type": "stream",
     "text": [
      "<__main__.Node object at 0x108b81910> 3 <__main__.Node object at 0x10913d810>\n",
      "<__main__.Node object at 0x10913d810> 1 <__main__.Node object at 0x10917df50>\n",
      "<__main__.Node object at 0x10917df50> 0 None\n",
      "<__main__.Node object at 0x10913d810> 1 <__main__.Node object at 0x10917df50>\n",
      "<__main__.Node object at 0x10917df50> 0 None\n",
      "<__main__.Node object at 0x10917df50> 0 None\n",
      "Linked List is empty!\n"
     ]
    }
   ],
   "source": [
    "# list code test\n",
    "llist.Display()\n",
    "llist.RemoveFromList(3)\n",
    "llist.Display()\n",
    "llist.RemoveFromList(1)\n",
    "llist.Display()\n",
    "llist.RemoveFromList(0)\n",
    "llist.Display()"
   ]
  },
  {
   "cell_type": "code",
   "execution_count": 171,
   "id": "d8b40f9f-b1a2-4859-ba6e-441f89d503f3",
   "metadata": {},
   "outputs": [
    {
     "name": "stdout",
     "output_type": "stream",
     "text": [
      "Linked List is empty!\n"
     ]
    }
   ],
   "source": [
    "llist.Display()"
   ]
  }
 ],
 "metadata": {
  "kernelspec": {
   "display_name": "Python 3 (ipykernel)",
   "language": "python",
   "name": "python3"
  },
  "language_info": {
   "codemirror_mode": {
    "name": "ipython",
    "version": 3
   },
   "file_extension": ".py",
   "mimetype": "text/x-python",
   "name": "python",
   "nbconvert_exporter": "python",
   "pygments_lexer": "ipython3",
   "version": "3.11.6"
  }
 },
 "nbformat": 4,
 "nbformat_minor": 5
}
