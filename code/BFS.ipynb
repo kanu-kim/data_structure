{
 "cells": [
  {
   "cell_type": "markdown",
   "id": "c41c6bc4-b6b1-4506-a661-364d5eb97845",
   "metadata": {},
   "source": [
    "# Breadth First Search (BFS)"
   ]
  },
  {
   "cell_type": "code",
   "execution_count": 1,
   "id": "c8414bcb-1b07-4184-bc4d-8c9dcdcbb384",
   "metadata": {},
   "outputs": [
    {
     "name": "stdout",
     "output_type": "stream",
     "text": [
      "importing Jupyter notebook from Linked_List.ipynb\n",
      "<Linked_List.Node object at 0x112648550> 3 None\n",
      "<Linked_List.Node object at 0x1126485b0> 1 <Linked_List.Node object at 0x112648550>\n",
      "<Linked_List.Node object at 0x112648550> 3 None\n",
      "<Linked_List.Node object at 0x112648610> 0 <Linked_List.Node object at 0x1126485b0>\n",
      "<Linked_List.Node object at 0x1126485b0> 1 <Linked_List.Node object at 0x112648550>\n",
      "<Linked_List.Node object at 0x112648550> 3 None\n",
      "<Linked_List.Node object at 0x1126484c0> 3 None\n",
      "<Linked_List.Node object at 0x1126484c0> 3 <Linked_List.Node object at 0x112648610>\n",
      "<Linked_List.Node object at 0x112648610> 1 None\n",
      "<Linked_List.Node object at 0x1126484c0> 3 <Linked_List.Node object at 0x112648610>\n",
      "<Linked_List.Node object at 0x112648610> 1 <Linked_List.Node object at 0x1126485b0>\n",
      "<Linked_List.Node object at 0x1126485b0> 0 None\n",
      "<Linked_List.Node object at 0x1126484c0> 3 <Linked_List.Node object at 0x112648610>\n",
      "<Linked_List.Node object at 0x112648610> 1 <Linked_List.Node object at 0x1126485b0>\n",
      "<Linked_List.Node object at 0x1126485b0> 0 None\n",
      "<Linked_List.Node object at 0x112648610> 1 <Linked_List.Node object at 0x1126485b0>\n",
      "<Linked_List.Node object at 0x1126485b0> 0 None\n",
      "<Linked_List.Node object at 0x1126485b0> 0 None\n",
      "Linked List is empty!\n",
      "Linked List is empty!\n",
      "importing Jupyter notebook from Queue.ipynb\n",
      "[8, 2]\n",
      "0 2 [8, 2]\n",
      "[]\n",
      "1 2 [2]\n",
      "[5, 0, 0, 0, 0, 0, 0, 0, 0, 0]\n",
      "[5, 6, 0, 0, 0, 0, 0, 0, 0, 0]\n",
      "[5, 6, 2, 0, 0, 0, 0, 0, 0, 0]\n",
      "[5, 6, 2, 9, 0, 0, 0, 0, 0, 0]\n",
      "[5, 6, 2, 9, -1, 0, 0, 0, 0, 0]\n",
      "[5, 6, 2, 9, -1, -1, 0, 0, 0, 0]\n",
      "[5, 6, 2, 9, -1, -1, -1, 0, 0, 0]\n",
      "[5, 6, 2, 9, -1, -1, -1, 7, 0, 0]\n",
      "[5, 6, 2, 9, -1, -1, -1, 7, 8, 0]\n",
      "[5, 6, 2, 9, -1, -1, -1, 7, 8, 1]\n",
      "[3, 6, 2, 9, -1, -1, -1, 7, 8, 1]\n",
      "1\n",
      "2\n",
      "3\n",
      "4\n",
      "5\n",
      "6\n",
      "7\n",
      "7 1 []\n",
      "[3, 6, 2, 9, -1, -1, -1, 7, 8, 1]\n"
     ]
    }
   ],
   "source": [
    "import import_ipynb\n",
    "from Linked_List import *\n",
    "from Queue import *"
   ]
  },
  {
   "cell_type": "code",
   "execution_count": 2,
   "id": "13ae7dc6-1807-4eb0-9f95-0b393e252648",
   "metadata": {},
   "outputs": [
    {
     "data": {
      "text/plain": [
       "<Linked_List.Node at 0x11275a490>"
      ]
     },
     "execution_count": 2,
     "metadata": {},
     "output_type": "execute_result"
    }
   ],
   "source": [
    "# Adjacency list\n",
    "\n",
    "adj_list = []\n",
    "for i in range(8):\n",
    "    adj_list.append(Linked_List())\n",
    "#    print(adj_list[i].Display())\n",
    "adj_list[0].InsertInList(None,3)\n",
    "adj_list[0].InsertInList(None,2)\n",
    "adj_list[0].InsertInList(None,1)\n",
    "adj_list[1].InsertInList(None,4)\n",
    "adj_list[1].InsertInList(None,0)\n",
    "adj_list[2].InsertInList(None,0)\n",
    "adj_list[3].InsertInList(None,5)\n",
    "adj_list[3].InsertInList(None,0)\n",
    "adj_list[4].InsertInList(None,5)\n",
    "adj_list[4].InsertInList(None,1)\n",
    "adj_list[5].InsertInList(None,7)\n",
    "adj_list[5].InsertInList(None,6)\n",
    "adj_list[5].InsertInList(None,4)\n",
    "adj_list[5].InsertInList(None,3)\n",
    "adj_list[6].InsertInList(None,5)\n",
    "adj_list[7].InsertInList(None,5)"
   ]
  },
  {
   "cell_type": "code",
   "execution_count": 3,
   "id": "fdb9d3ee-8371-488d-9830-c75ca8121455",
   "metadata": {},
   "outputs": [
    {
     "name": "stdout",
     "output_type": "stream",
     "text": [
      "<Linked_List.Node object at 0x112648220> 1 <Linked_List.Node object at 0x112648310>\n",
      "<Linked_List.Node object at 0x112648310> 2 <Linked_List.Node object at 0x1126481f0>\n",
      "<Linked_List.Node object at 0x1126481f0> 3 None\n",
      "None\n",
      "<Linked_List.Node object at 0x11275aac0> 0 <Linked_List.Node object at 0x11275ab20>\n",
      "<Linked_List.Node object at 0x11275ab20> 4 None\n",
      "None\n",
      "<Linked_List.Node object at 0x11275aa60> 0 None\n",
      "None\n",
      "<Linked_List.Node object at 0x11275a9a0> 0 <Linked_List.Node object at 0x11275aa00>\n",
      "<Linked_List.Node object at 0x11275aa00> 5 None\n",
      "None\n",
      "<Linked_List.Node object at 0x11275af10> 1 <Linked_List.Node object at 0x11275a940>\n",
      "<Linked_List.Node object at 0x11275a940> 5 None\n",
      "None\n",
      "<Linked_List.Node object at 0x11275a610> 3 <Linked_List.Node object at 0x11275a670>\n",
      "<Linked_List.Node object at 0x11275a670> 4 <Linked_List.Node object at 0x11275a6d0>\n",
      "<Linked_List.Node object at 0x11275a6d0> 6 <Linked_List.Node object at 0x11275af70>\n",
      "<Linked_List.Node object at 0x11275af70> 7 None\n",
      "None\n",
      "<Linked_List.Node object at 0x11275a5e0> 5 None\n",
      "None\n",
      "<Linked_List.Node object at 0x11275a490> 5 None\n",
      "None\n"
     ]
    }
   ],
   "source": [
    "for i in range(8):\n",
    "    print(adj_list[i].Display())"
   ]
  },
  {
   "cell_type": "code",
   "execution_count": 4,
   "id": "85d48b9d-81c8-482e-9771-499fbbba0fdb",
   "metadata": {},
   "outputs": [],
   "source": [
    "def BFS(graph,start):\n",
    "    n = len(graph)\n",
    "    visited = [False]*n\n",
    "    inqueue = [False]*n\n",
    "    Q = Queue()\n",
    "    Q.Enqueue(start)\n",
    "    inqueue[start] = True\n",
    "    while not Q.IsEmpty():\n",
    "        c = Q.Dequeue()\n",
    "        visited[c] = True\n",
    "        inqueue[c] = False\n",
    "        hp = graph[c].head\n",
    "        print(\"out\",c)\n",
    "        while hp != None:\n",
    "            if not visited[hp.data] and not inqueue[hp.data]:\n",
    "                Q.Enqueue(hp.data)\n",
    "                inqueue[hp.data] = True\n",
    "                print(visited,c,\"->\",hp.data,Q.items)\n",
    "            else:\n",
    "                print(visited,c,\"->\",hp.data)\n",
    "            hp = hp.next\n",
    "    return visited"
   ]
  },
  {
   "cell_type": "code",
   "execution_count": 5,
   "id": "f2074b5b-7192-41c5-a223-0b047e9d998f",
   "metadata": {},
   "outputs": [
    {
     "name": "stdout",
     "output_type": "stream",
     "text": [
      "out 0\n",
      "[True, False, False, False, False, False, False, False] 0 -> 1 [1]\n",
      "[True, False, False, False, False, False, False, False] 0 -> 2 [1, 2]\n",
      "[True, False, False, False, False, False, False, False] 0 -> 3 [1, 2, 3]\n",
      "out 1\n",
      "[True, True, False, False, False, False, False, False] 1 -> 0\n",
      "[True, True, False, False, False, False, False, False] 1 -> 4 [2, 3, 4]\n",
      "out 2\n",
      "[True, True, True, False, False, False, False, False] 2 -> 0\n",
      "out 3\n",
      "[True, True, True, True, False, False, False, False] 3 -> 0\n",
      "[True, True, True, True, False, False, False, False] 3 -> 5 [4, 5]\n",
      "out 4\n",
      "[True, True, True, True, True, False, False, False] 4 -> 1\n",
      "[True, True, True, True, True, False, False, False] 4 -> 5\n",
      "out 5\n",
      "[True, True, True, True, True, True, False, False] 5 -> 3\n",
      "[True, True, True, True, True, True, False, False] 5 -> 4\n",
      "[True, True, True, True, True, True, False, False] 5 -> 6 [6]\n",
      "[True, True, True, True, True, True, False, False] 5 -> 7 [6, 7]\n",
      "out 6\n",
      "[True, True, True, True, True, True, True, False] 6 -> 5\n",
      "out 7\n",
      "[True, True, True, True, True, True, True, True] 7 -> 5\n"
     ]
    },
    {
     "data": {
      "text/plain": [
       "[True, True, True, True, True, True, True, True]"
      ]
     },
     "execution_count": 5,
     "metadata": {},
     "output_type": "execute_result"
    }
   ],
   "source": [
    "BFS(adj_list,0)"
   ]
  },
  {
   "cell_type": "code",
   "execution_count": null,
   "id": "1744a7b7-202f-4e8a-919c-0145dca4e387",
   "metadata": {},
   "outputs": [],
   "source": []
  }
 ],
 "metadata": {
  "kernelspec": {
   "display_name": "Python 3 (ipykernel)",
   "language": "python",
   "name": "python3"
  },
  "language_info": {
   "codemirror_mode": {
    "name": "ipython",
    "version": 3
   },
   "file_extension": ".py",
   "mimetype": "text/x-python",
   "name": "python",
   "nbconvert_exporter": "python",
   "pygments_lexer": "ipython3",
   "version": "3.9.6"
  }
 },
 "nbformat": 4,
 "nbformat_minor": 5
}
