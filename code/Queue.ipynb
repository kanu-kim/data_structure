{
 "cells": [
  {
   "cell_type": "markdown",
   "id": "f63659e3-88bd-4ac2-8db7-d22bfcf57d3a",
   "metadata": {},
   "source": [
    "# Queue"
   ]
  },
  {
   "cell_type": "code",
   "execution_count": 68,
   "id": "70f1828f-6cb8-47b6-9c96-00222b64a5fe",
   "metadata": {},
   "outputs": [],
   "source": [
    "# Queue code\n",
    "\n",
    "class Queue:\n",
    "    def __init__(self):\n",
    "        self.head = 0\n",
    "        self.tail = 0\n",
    "        self.items=[]\n",
    "    def Enqueue(self,i):\n",
    "        self.items.append(i)\n",
    "        self.tail += 1\n",
    "    def Dequeue(self):\n",
    "        self.head += 1\n",
    "    def IsEmpty(self):\n",
    "        return not self.items\n",
    "    def Display(self):\n",
    "        return self.items[self.head:self.tail]"
   ]
  },
  {
   "cell_type": "code",
   "execution_count": 75,
   "id": "eb9c73e6-79bb-410a-acda-d629e5a9cddf",
   "metadata": {},
   "outputs": [
    {
     "data": {
      "text/plain": [
       "True"
      ]
     },
     "execution_count": 75,
     "metadata": {},
     "output_type": "execute_result"
    }
   ],
   "source": [
    "que = Queue()\n",
    "que.IsEmpty()"
   ]
  },
  {
   "cell_type": "code",
   "execution_count": 76,
   "id": "c0708f4f-0028-472e-b87b-2b56e43a6f77",
   "metadata": {},
   "outputs": [
    {
     "name": "stdout",
     "output_type": "stream",
     "text": [
      "[8, 2]\n",
      "0 2 [8, 2]\n"
     ]
    }
   ],
   "source": [
    "que.Enqueue(8)\n",
    "que.Enqueue(2)\n",
    "que.IsEmpty()\n",
    "print(que.Display())\n",
    "print(que.head,que.tail,que.items)"
   ]
  },
  {
   "cell_type": "code",
   "execution_count": 77,
   "id": "1a10f958-a14f-4b07-bebf-fb4e845da43a",
   "metadata": {},
   "outputs": [
    {
     "name": "stdout",
     "output_type": "stream",
     "text": [
      "[2]\n",
      "1 2 [8, 2]\n"
     ]
    }
   ],
   "source": [
    "que.Dequeue()\n",
    "print(que.Display())\n",
    "print(que.head,que.tail,que.items)"
   ]
  },
  {
   "cell_type": "code",
   "execution_count": 93,
   "id": "29709c89-1a0e-4355-8181-c9e5bff43a3b",
   "metadata": {},
   "outputs": [],
   "source": [
    "\n",
    "class Cyclic_Queue:\n",
    "    def __init__(self,n):\n",
    "        self.head = 0\n",
    "        self.tail = 0\n",
    "        self.n = n\n",
    "        self.items=[0]*self.n\n",
    "    def Enqueue(self,i):\n",
    "        self.items[self.tail] = i\n",
    "        self.tail += 1\n",
    "        if self.tail == self.n:\n",
    "            self.tail = 0\n",
    "    def Dequeue(self):\n",
    "        self.head += 1\n",
    "        if self.head == self.n-1:\n",
    "            self.head = 0\n",
    "    def IsEmpty(self):\n",
    "        return not self.items\n",
    "    def Display(self):\n",
    "        return self.items[self.head:self.tail]"
   ]
  },
  {
   "cell_type": "code",
   "execution_count": 97,
   "id": "16ed657c-2e48-4017-8f86-7559798010d3",
   "metadata": {},
   "outputs": [
    {
     "name": "stdout",
     "output_type": "stream",
     "text": [
      "[5, 0, 0, 0, 0, 0, 0, 0, 0, 0]\n",
      "[5, 6, 0, 0, 0, 0, 0, 0, 0, 0]\n",
      "[5, 6, 2, 0, 0, 0, 0, 0, 0, 0]\n",
      "[5, 6, 2, 9, 0, 0, 0, 0, 0, 0]\n",
      "[5, 6, 2, 9, -1, 0, 0, 0, 0, 0]\n",
      "[5, 6, 2, 9, -1, -1, 0, 0, 0, 0]\n",
      "[5, 6, 2, 9, -1, -1, -1, 0, 0, 0]\n",
      "[5, 6, 2, 9, -1, -1, -1, 7, 0, 0]\n",
      "[5, 6, 2, 9, -1, -1, -1, 7, 8, 0]\n",
      "[5, 6, 2, 9, -1, -1, -1, 7, 8, 1]\n",
      "[3, 6, 2, 9, -1, -1, -1, 7, 8, 1]\n",
      "1\n",
      "2\n",
      "3\n",
      "4\n",
      "5\n",
      "6\n",
      "7\n",
      "7 1 []\n",
      "[3, 6, 2, 9, -1, -1, -1, 7, 8, 1]\n"
     ]
    }
   ],
   "source": [
    "# n=10\n",
    "# if (head or tail) == n-1 -> head or tail = 0\n",
    "# Enque [5,6,2,9,3,1,3,7,8,1,3]\n",
    "# Deque 7 times\n",
    "# reselt : h=1 t=4, [6,2,9]\n",
    "cque = Cyclic_Queue(10)\n",
    "input = [5,6,2,9,-1,-1,-1,7,8,1,3]\n",
    "for i in input:\n",
    "    cque.Enqueue(i)\n",
    "    print(cque.items)\n",
    "for i in range(7):\n",
    "    cque.Dequeue()\n",
    "    print(cque.head)\n",
    "print(cque.head,cque.tail,cque.Display())\n",
    "print(cque.items)"
   ]
  },
  {
   "cell_type": "code",
   "execution_count": null,
   "id": "237ae663-5b72-4062-ade9-935cfed0348d",
   "metadata": {},
   "outputs": [],
   "source": []
  }
 ],
 "metadata": {
  "kernelspec": {
   "display_name": "Python 3 (ipykernel)",
   "language": "python",
   "name": "python3"
  },
  "language_info": {
   "codemirror_mode": {
    "name": "ipython",
    "version": 3
   },
   "file_extension": ".py",
   "mimetype": "text/x-python",
   "name": "python",
   "nbconvert_exporter": "python",
   "pygments_lexer": "ipython3",
   "version": "3.11.6"
  }
 },
 "nbformat": 4,
 "nbformat_minor": 5
}
