{
 "cells": [
  {
   "cell_type": "markdown",
   "id": "949e1fc8-8e89-42ef-9003-995076b7aa58",
   "metadata": {},
   "source": [
    "# stack"
   ]
  },
  {
   "cell_type": "code",
   "execution_count": 56,
   "id": "09c4944a-ecb9-49af-ad08-59f68356d9ff",
   "metadata": {},
   "outputs": [],
   "source": [
    "class Node:\n",
    "    def __init__(self,data=None):\n",
    "        self.data = data\n",
    "        self.next = None"
   ]
  },
  {
   "cell_type": "code",
   "execution_count": 81,
   "id": "3211dfef-0268-4c13-a08a-dcd01a55fc90",
   "metadata": {},
   "outputs": [],
   "source": [
    "class Linked_List:\n",
    "\n",
    "    # 초기화\n",
    "    def __init__(self):\n",
    "        self.head = Node()\n",
    "        \n",
    "    def InsertNode(self,data):\n",
    "        new_node = Node(data)\n",
    "        p_node = self.head\n",
    "        if p_node.data == None:\n",
    "            self.head = new_node\n",
    "        else:\n",
    "            new_node.next = p_node\n",
    "            self.head = new_node\n",
    "    def InsertInList(self,prev,data):"
   ]
  },
  {
   "cell_type": "code",
   "execution_count": null,
   "id": "d8102302-29b0-4fd1-86e7-427cd5f2453e",
   "metadata": {},
   "outputs": [],
   "source": []
  },
  {
   "cell_type": "code",
   "execution_count": 82,
   "id": "0d0009b8-9b51-40d9-a892-1afe3a48b3c9",
   "metadata": {},
   "outputs": [],
   "source": [
    "# list code test\n",
    "def display_list(self):\n",
    "    p_node = self.head\n",
    "    print(p_node,p_node.data,p_node.next)\n",
    "    while p_node.next != None:\n",
    "        p_node = p_node.next\n",
    "        print(p_node,p_node.data,p_node.next)\n"
   ]
  },
  {
   "cell_type": "code",
   "execution_count": 84,
   "id": "2b73dbdd-394f-4ebf-a402-65587a236182",
   "metadata": {},
   "outputs": [
    {
     "name": "stdout",
     "output_type": "stream",
     "text": [
      "<__main__.Node object at 0x10640f5d0> 0 <__main__.Node object at 0x105a8f310>\n",
      "<__main__.Node object at 0x105a8f310> 1 <__main__.Node object at 0x10640f310>\n",
      "<__main__.Node object at 0x10640f310> 3 None\n"
     ]
    }
   ],
   "source": [
    "#test\n",
    "llist = Linked_List()\n",
    "llist.InsertNode(3)\n",
    "llist.InsertNode(1)\n",
    "llist.InsertNode(0)\n",
    "display_list(llist)"
   ]
  },
  {
   "cell_type": "code",
   "execution_count": null,
   "id": "d8b40f9f-b1a2-4859-ba6e-441f89d503f3",
   "metadata": {},
   "outputs": [],
   "source": []
  }
 ],
 "metadata": {
  "kernelspec": {
   "display_name": "Python 3 (ipykernel)",
   "language": "python",
   "name": "python3"
  },
  "language_info": {
   "codemirror_mode": {
    "name": "ipython",
    "version": 3
   },
   "file_extension": ".py",
   "mimetype": "text/x-python",
   "name": "python",
   "nbconvert_exporter": "python",
   "pygments_lexer": "ipython3",
   "version": "3.11.6"
  }
 },
 "nbformat": 4,
 "nbformat_minor": 5
}
